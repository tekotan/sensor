{
 "cells": [
  {
   "cell_type": "code",
   "execution_count": 29,
   "id": "74dd2332",
   "metadata": {},
   "outputs": [],
   "source": [
    "import numpy as np\n",
    "import pandas as pd\n",
    "import matplotlib.pyplot as plt\n",
    "import os\n",
    "from os import listdir\n",
    "import random\n",
    "\n",
    "import scipy.cluster.hierarchy as sch\n",
    "from scipy import stats\n",
    "\n",
    "import tensorflow as tf\n",
    "from tensorflow.keras.models import *\n",
    "from tensorflow.keras.layers import *\n",
    "from tensorflow.keras.callbacks import *"
   ]
  },
  {
   "cell_type": "code",
   "execution_count": null,
   "id": "eb9c7ebf",
   "metadata": {},
   "outputs": [],
   "source": []
  },
  {
   "cell_type": "code",
   "execution_count": 30,
   "id": "6f8de6ef",
   "metadata": {},
   "outputs": [],
   "source": [
    "data = np.zeros((100000, 100, 1))\n",
    "for i in range(data.shape[0]):\n",
    "    for j in range(data.shape[2]):\n",
    "        data[i, :, j] = np.random.normal((i%20 * 5), np.random.randint(1, 25), data.shape[1])"
   ]
  },
  {
   "cell_type": "code",
   "execution_count": 31,
   "id": "6577f873",
   "metadata": {
    "scrolled": true
   },
   "outputs": [],
   "source": [
    "timesteps = 100  # Length of your sequences\n",
    "input_dim = 1 \n",
    "latent_dim = 16\n",
    "\n",
    "inputs = Input(shape=(timesteps, input_dim))\n",
    "encoded = LSTM(64)(inputs)\n",
    "encoded = Dense(latent_dim)(encoded)\n",
    "\n",
    "decoded = RepeatVector(timesteps)(encoded)\n",
    "decoded = LSTM(64, return_sequences=True)(decoded)\n",
    "decoded = TimeDistributed(Dense(1))(decoded)\n",
    "\n",
    "autoencoder = Model(inputs, decoded)\n",
    "encoder = Model(inputs, encoded)\n",
    "\n",
    "autoencoder.compile(optimizer='adam', loss='mse')\n",
    "\n",
    "es = EarlyStopping(monitor='val_loss', mode='auto', restore_best_weights=True, verbose=1, patience=1)\n",
    "# autoencoder.fit(data[2000:],data[2000:], epochs=1000, validation_data=(data[:2000],data[:2000]), callbacks=[es], batch_size=1024)"
   ]
  },
  {
   "cell_type": "code",
   "execution_count": 32,
   "id": "6ef87f70",
   "metadata": {},
   "outputs": [
    {
     "name": "stdout",
     "output_type": "stream",
     "text": [
      "WARNING:tensorflow:No training configuration found in the save file, so the model was *not* compiled. Compile it manually.\n"
     ]
    }
   ],
   "source": [
    "autoencoder = tf.keras.models.load_model(\"autoencoder.h5\")\n",
    "encoder = tf.keras.models.load_model(\"encoder.h5\")"
   ]
  },
  {
   "cell_type": "code",
   "execution_count": null,
   "id": "16682848",
   "metadata": {},
   "outputs": [],
   "source": []
  },
  {
   "cell_type": "code",
   "execution_count": 33,
   "id": "8a20060a",
   "metadata": {
    "scrolled": false
   },
   "outputs": [
    {
     "data": {
      "text/plain": [
       "Text(0, 0.5, 'mse')"
      ]
     },
     "execution_count": 33,
     "metadata": {},
     "output_type": "execute_result"
    },
    {
     "data": {
      "image/png": "[encoded data removed]",
      "text/plain": [
       "<Figure size 1152x432 with 1 Axes>"
      ]
     },
     "metadata": {
      "needs_background": "light"
     },
     "output_type": "display_data"
    }
   ],
   "source": [
    "predictions = autoencoder.predict(np.expand_dims(data[11], axis=0))\n",
    "mse = np.power(data[11] - predictions[0][0], 2)\n",
    "\n",
    "plt.figure(figsize=(16,6))\n",
    "plt.scatter(range(data.shape[1]), mse)\n",
    "plt.xlabel('time'); plt.ylabel('mse')"
   ]
  },
  {
   "cell_type": "code",
   "execution_count": 34,
   "id": "5807fc19",
   "metadata": {},
   "outputs": [
    {
     "data": {
      "text/plain": [
       "array([[0., 0., 0., 0.],\n",
       "       [0., 0., 0., 0.],\n",
       "       [0., 0., 0., 0.],\n",
       "       [0., 0., 0., 0.]])"
      ]
     },
     "execution_count": 34,
     "metadata": {},
     "output_type": "execute_result"
    }
   ],
   "source": [
    "x = np.zeros((4, 1000))\n",
    "y = x[:, 1:101]\n",
    "y.shape\n",
    "z = encoder.predict(y)\n",
    "z.shape\n",
    "from scipy.spatial import distance_matrix\n",
    "distance_matrix(z, z)"
   ]
  },
  {
   "cell_type": "code",
   "execution_count": 35,
   "id": "ffadc5f7",
   "metadata": {},
   "outputs": [
    {
     "data": {
      "text/plain": [
       "'1.1.5'"
      ]
     },
     "execution_count": 35,
     "metadata": {},
     "output_type": "execute_result"
    }
   ],
   "source": [
    "import pandas as pd\n",
    "pd.__version__"
   ]
  },
  {
   "cell_type": "code",
   "execution_count": 36,
   "id": "89c7cd02",
   "metadata": {},
   "outputs": [],
   "source": [
    "from tqdm import tqdm\n",
    "def compute_distances(sensors, encoder, window=5, plot=True):\n",
    "    sensor_array = np.vstack(sensors)\n",
    "    num_sensors = len(sensors)\n",
    "    total_timesteps = len(sensors[0])\n",
    "    truncated_timestep = timesteps\n",
    "    sensor_distance_timeseries = np.zeros((total_timesteps - truncated_timestep, num_sensors, num_sensors))\n",
    "    time_vec = np.arange(total_timesteps - truncated_timestep)\n",
    "    for i in tqdm(range(total_timesteps - truncated_timestep)):\n",
    "        truncated_timeseries = sensor_array[:, i:i+truncated_timestep]\n",
    "        truncated_encodings = encoder.predict(truncated_timeseries)\n",
    "        sensor_distance_timeseries[i] = distance_matrix(truncated_encodings, truncated_encodings)\n",
    "    if plot:\n",
    "        fig, axs = plt.subplots(num_sensors, num_sensors, sharex=True, sharey=True, figsize=(16, 16))\n",
    "        for i in range(num_sensors):\n",
    "            for j in range(num_sensors):\n",
    "                axs[i,j].plot(time_vec, pd.Series(sensor_distance_timeseries[:, i, j]).rolling(window).mean())\n",
    "                axs[i,j].set_title(\"\")\n",
    "                axs[i,j].set(xlabel=f'sensor {j}', ylabel=f'sensor {i}')\n",
    "        for ax in axs.flat:\n",
    "            ax.label_outer()\n",
    "    return sensor_distance_timeseries"
   ]
  },
  {
   "cell_type": "markdown",
   "id": "2d7622b3",
   "metadata": {},
   "source": [
    "# Profiling"
   ]
  },
  {
   "cell_type": "code",
   "execution_count": 37,
   "id": "68b465dc",
   "metadata": {},
   "outputs": [],
   "source": [
    "from sklearn.decomposition import FastICA, TruncatedSVD, PCA, FactorAnalysis\n",
    "import umap\n",
    "\n",
    "class Pca:\n",
    "    def __init__(self, data):\n",
    "        self.model = PCA(16).fit(data)\n",
    "    def predict(self, data):\n",
    "        return self.model.transform(data)\n",
    "\n",
    "class FactorAnal:\n",
    "    def __init__(self, data):\n",
    "        self.model = FactorAnalysis(32).fit(data)\n",
    "    def predict(self, data):\n",
    "        return self.model.transform(data)\n",
    "\n",
    "class ICA:\n",
    "    def __init__(self, data):\n",
    "        self.model = FastICA(n_components=16, random_state=12).fit(data)\n",
    "    def predict(self, data):\n",
    "        return self.model.transform(data)\n",
    "    \n",
    "pca = Pca(data.reshape((100000, 100)))\n"
   ]
  },
  {
   "cell_type": "code",
   "execution_count": 38,
   "id": "46122d30",
   "metadata": {},
   "outputs": [
    {
     "name": "stdout",
     "output_type": "stream",
     "text": [
      "Model: \"functional_3\"\n",
      "_________________________________________________________________\n",
      "Layer (type)                 Output Shape              Param #   \n",
      "=================================================================\n",
      "input_1 (InputLayer)         [(None, 100, 1)]          0         \n",
      "_________________________________________________________________\n",
      "lstm (LSTM)                  (None, 64)                16896     \n",
      "_________________________________________________________________\n",
      "dense (Dense)                (None, 16)                1040      \n",
      "=================================================================\n",
      "Total params: 17,936\n",
      "Trainable params: 17,936\n",
      "Non-trainable params: 0\n",
      "_________________________________________________________________\n"
     ]
    }
   ],
   "source": [
    "encoder.summary()"
   ]
  },
  {
   "cell_type": "code",
   "execution_count": 39,
   "id": "bdbc76ab",
   "metadata": {},
   "outputs": [],
   "source": [
    "# layers * timesteps * 8 * 2 * hiddenSize * minibatch * (hiddenSize + 1)\n",
    "# = 2*100*8*2*64*65\n",
    "# approx 13 million flops"
   ]
  },
  {
   "cell_type": "code",
   "execution_count": 40,
   "id": "febac8c5",
   "metadata": {},
   "outputs": [],
   "source": [
    "# pca is matrix multiplication of a 1x100 vector and 100x16 vector, so approx 1600 flops"
   ]
  },
  {
   "cell_type": "code",
   "execution_count": 24,
   "id": "fab9b52b",
   "metadata": {},
   "outputs": [
    {
     "name": "stdout",
     "output_type": "stream",
     "text": [
      "50.3 ms ± 1.49 ms per loop (mean ± std. dev. of 7 runs, 10 loops each)\n"
     ]
    }
   ],
   "source": [
    "%%timeit\n",
    "with tf.device(\"/cpu:0\"):\n",
    "    encoder.predict(np.zeros((1,100)))"
   ]
  },
  {
   "cell_type": "code",
   "execution_count": 25,
   "id": "ccc32621",
   "metadata": {},
   "outputs": [
    {
     "name": "stdout",
     "output_type": "stream",
     "text": [
      "74.9 µs ± 2 µs per loop (mean ± std. dev. of 7 runs, 10000 loops each)\n"
     ]
    }
   ],
   "source": [
    "%%timeit\n",
    "pca.predict(np.zeros((1,100)))"
   ]
  },
  {
   "cell_type": "markdown",
   "id": "bbf48b25",
   "metadata": {},
   "source": [
    "# Select Encoder"
   ]
  },
  {
   "cell_type": "code",
   "execution_count": 41,
   "id": "acb28b58",
   "metadata": {},
   "outputs": [],
   "source": [
    "from sklearn.decomposition import FastICA, TruncatedSVD, PCA, FactorAnalysis\n",
    "import umap\n",
    "\n",
    "class Pca:\n",
    "    def __init__(self, data):\n",
    "        self.model = PCA(16).fit(data)\n",
    "    def predict(self, data):\n",
    "        return self.model.transform(data)\n",
    "\n",
    "class FactorAnal:\n",
    "    def __init__(self, data):\n",
    "        self.model = FactorAnalysis(32).fit(data)\n",
    "    def predict(self, data):\n",
    "        return self.model.transform(data)\n",
    "\n",
    "class ICA:\n",
    "    def __init__(self, data):\n",
    "        self.model = FastICA(n_components=16, random_state=12).fit(data)\n",
    "    def predict(self, data):\n",
    "        return self.model.transform(data)\n",
    "    \n",
    "pca = Pca(data.reshape((100000, 100)))\n",
    "# encoder = FactorAnal(data.reshape((100000, 100)))\n",
    "# encoder = ICA(data.reshape((100000, 100)))"
   ]
  },
  {
   "cell_type": "code",
   "execution_count": 42,
   "id": "56201758",
   "metadata": {
    "scrolled": true
   },
   "outputs": [
    {
     "name": "stderr",
     "output_type": "stream",
     "text": [
      "100%|█████████████████████████████████████████████████████████████████████████████████████████████████████| 50/50 [01:50<00:00,  2.20s/it]\n"
     ]
    }
   ],
   "source": [
    "center_temp = 50\n",
    "center_std = 2\n",
    "total_time = 150\n",
    "deltas = np.arange(0,100,2)\n",
    "autoencoder_dists = np.zeros((50))\n",
    "pca_dists = np.zeros((50))\n",
    "for idx, delta_t in enumerate(tqdm(range(0, 100, 2))):\n",
    "    sensor_1 = np.random.normal(center_temp + delta_t, center_std, total_time)\n",
    "    sensor_2 = np.random.normal(center_temp, center_std, total_time)\n",
    "    sensor_array = np.vstack([sensor_1, sensor_2])\n",
    "    sensor_autoencoder = np.zeros((50))\n",
    "    sensor_pca = np.zeros((50))\n",
    "    for i in range(50):\n",
    "        truncated_timeseries = sensor_array[:, i:i+100]\n",
    "        truncated_autoencodings = encoder.predict(truncated_timeseries)\n",
    "        truncated_pca = pca.predict(truncated_timeseries)\n",
    "        sensor_autoencoder[i] = distance_matrix(truncated_autoencodings, truncated_autoencodings)[0][1]\n",
    "        sensor_pca[i] = distance_matrix(truncated_pca, truncated_pca)[0][1]\n",
    "    autoencoder_dists[idx] = np.mean(sensor_autoencoder)\n",
    "    pca_dists[idx] = np.mean(sensor_pca)"
   ]
  },
  {
   "cell_type": "code",
   "execution_count": 43,
   "id": "4fc3d11d",
   "metadata": {},
   "outputs": [
    {
     "data": {
      "text/plain": [
       "array([ 0,  2,  4,  6,  8, 10, 12, 14, 16, 18, 20, 22, 24, 26, 28, 30, 32,\n",
       "       34, 36, 38, 40, 42, 44, 46, 48, 50, 52, 54, 56, 58, 60, 62, 64, 66,\n",
       "       68, 70, 72, 74, 76, 78, 80, 82, 84, 86, 88, 90, 92, 94, 96, 98])"
      ]
     },
     "execution_count": 43,
     "metadata": {},
     "output_type": "execute_result"
    }
   ],
   "source": [
    "deltas"
   ]
  },
  {
   "cell_type": "code",
   "execution_count": 44,
   "id": "daf47a7d",
   "metadata": {},
   "outputs": [
    {
     "data": {
      "text/plain": [
       "array([ 0.23226241,  0.4720696 ,  0.90759435,  1.28998234,  1.81762452,\n",
       "        2.2984505 ,  2.63470838,  3.16870278,  3.68440298,  4.21441826,\n",
       "        4.73280016,  5.39254948,  6.11851736,  6.80325983,  7.4411504 ,\n",
       "        8.07481104,  8.61772647, 10.44817179, 12.47123301, 15.75572365,\n",
       "       17.53045806, 20.5348661 , 21.47422587, 21.71835885, 21.74737298,\n",
       "       21.79386092, 21.65998715, 21.69079167, 21.70106808, 21.55514767,\n",
       "       21.55217609, 21.53691322, 21.32650677, 20.84576812, 20.33138739,\n",
       "       20.1282548 , 19.97290762, 19.97191679, 19.95103915, 19.8739518 ,\n",
       "       19.81675385, 19.78695659, 19.7760183 , 19.78026541, 19.73864932,\n",
       "       19.67975034, 19.60820935, 19.5628757 , 19.51324663, 19.54347196])"
      ]
     },
     "execution_count": 44,
     "metadata": {},
     "output_type": "execute_result"
    }
   ],
   "source": [
    "autoencoder_dists"
   ]
  },
  {
   "cell_type": "code",
   "execution_count": 45,
   "id": "4ef7dd10",
   "metadata": {
    "scrolled": true
   },
   "outputs": [
    {
     "data": {
      "text/plain": [
       "array([ 10.07476338,  23.08466064,  39.1073746 ,  62.94652147,\n",
       "        80.34625086, 105.57278336, 119.87926762, 138.6225276 ,\n",
       "       162.52549517, 182.67446397, 198.80910413, 216.62617737,\n",
       "       240.81799967, 257.87933586, 278.9515943 , 304.66123664,\n",
       "       317.9036968 , 339.55118121, 360.57692431, 383.65368905,\n",
       "       402.91935627, 421.65134291, 442.82251582, 457.10641094,\n",
       "       478.74074127, 497.14421064, 523.65550003, 540.44313779,\n",
       "       561.40088501, 576.17736879, 597.4944817 , 621.32434447,\n",
       "       641.77096217, 655.90474086, 679.38020812, 702.0927946 ,\n",
       "       723.27880269, 738.23063016, 758.87498855, 778.36955268,\n",
       "       800.13297739, 820.52118837, 841.97888071, 859.52107996,\n",
       "       880.43290596, 899.88942832, 920.22509944, 940.40969131,\n",
       "       956.97987292, 983.11501023])"
      ]
     },
     "execution_count": 45,
     "metadata": {},
     "output_type": "execute_result"
    }
   ],
   "source": [
    "pca_dists"
   ]
  },
  {
   "cell_type": "code",
   "execution_count": 1,
   "id": "d3df0abb",
   "metadata": {},
   "outputs": [
    {
     "ename": "NameError",
     "evalue": "name 'plt' is not defined",
     "output_type": "error",
     "traceback": [
      "\u001b[1;31m---------------------------------------------------------------------------\u001b[0m",
      "\u001b[1;31mNameError\u001b[0m                                 Traceback (most recent call last)",
      "\u001b[1;32m<ipython-input-1-3bd9bd6d702b>\u001b[0m in \u001b[0;36m<module>\u001b[1;34m\u001b[0m\n\u001b[1;32m----> 1\u001b[1;33m \u001b[0mplt\u001b[0m\u001b[1;33m.\u001b[0m\u001b[0mplot\u001b[0m\u001b[1;33m(\u001b[0m\u001b[0mdeltas\u001b[0m\u001b[1;33m,\u001b[0m \u001b[0mautoencoder_dists\u001b[0m\u001b[1;33m,\u001b[0m \u001b[0mcolor\u001b[0m\u001b[1;33m=\u001b[0m\u001b[1;34m\"blue\"\u001b[0m\u001b[1;33m)\u001b[0m\u001b[1;33m\u001b[0m\u001b[1;33m\u001b[0m\u001b[0m\n\u001b[0m\u001b[0;32m      2\u001b[0m \u001b[0mplt\u001b[0m\u001b[1;33m.\u001b[0m\u001b[0mplot\u001b[0m\u001b[1;33m(\u001b[0m\u001b[0mdeltas\u001b[0m\u001b[1;33m,\u001b[0m \u001b[0mpca_dists\u001b[0m\u001b[1;33m,\u001b[0m \u001b[0mcolor\u001b[0m\u001b[1;33m=\u001b[0m\u001b[1;34m\"orange\"\u001b[0m\u001b[1;33m)\u001b[0m\u001b[1;33m\u001b[0m\u001b[1;33m\u001b[0m\u001b[0m\n\u001b[0;32m      3\u001b[0m \u001b[0mplt\u001b[0m\u001b[1;33m.\u001b[0m\u001b[0myscale\u001b[0m\u001b[1;33m(\u001b[0m\u001b[1;34m\"log\"\u001b[0m\u001b[1;33m)\u001b[0m\u001b[1;33m\u001b[0m\u001b[1;33m\u001b[0m\u001b[0m\n\u001b[0;32m      4\u001b[0m \u001b[0mplt\u001b[0m\u001b[1;33m.\u001b[0m\u001b[0mylabel\u001b[0m\u001b[1;33m(\u001b[0m\u001b[1;34m\"Distance Difference\"\u001b[0m\u001b[1;33m)\u001b[0m\u001b[1;33m\u001b[0m\u001b[1;33m\u001b[0m\u001b[0m\n\u001b[0;32m      5\u001b[0m \u001b[0mplt\u001b[0m\u001b[1;33m.\u001b[0m\u001b[0mxlabel\u001b[0m\u001b[1;33m(\u001b[0m\u001b[1;34m\"Difference in Means\"\u001b[0m\u001b[1;33m)\u001b[0m\u001b[1;33m\u001b[0m\u001b[1;33m\u001b[0m\u001b[0m\n",
      "\u001b[1;31mNameError\u001b[0m: name 'plt' is not defined"
     ]
    }
   ],
   "source": [
    "plt.plot(deltas, autoencoder_dists, color=\"blue\")\n",
    "plt.plot(deltas, pca_dists, color=\"orange\")\n",
    "plt.yscale(\"log\")\n",
    "plt.ylabel(\"Distance Difference\")\n",
    "plt.xlabel(\"Difference in Means\")"
   ]
  },
  {
   "cell_type": "code",
   "execution_count": 28,
   "id": "1360261c",
   "metadata": {},
   "outputs": [
    {
     "data": {
      "text/plain": [
       "[<matplotlib.lines.Line2D at 0x203072ab668>]"
      ]
     },
     "execution_count": 28,
     "metadata": {},
     "output_type": "execute_result"
    },
    {
     "data": {
      "image/png": "[encoded data removed]",
      "text/plain": [
       "<Figure size 432x288 with 1 Axes>"
      ]
     },
     "metadata": {
      "needs_background": "light"
     },
     "output_type": "display_data"
    }
   ],
   "source": [
    "plt.plot(deltas, autoencoder_dists, color=\"blue\")\n",
    "plt.plot(deltas, pca_dists, color=\"orange\")\n",
    "# plt.yscale(\"log\")"
   ]
  },
  {
   "cell_type": "code",
   "execution_count": 46,
   "id": "d32bfa25",
   "metadata": {},
   "outputs": [
    {
     "name": "stderr",
     "output_type": "stream",
     "text": [
      "100%|███████████████████████████████████████████████████████████████████████████████████████████████| 1900/1900 [00:00<00:00, 7774.88it/s]\n"
     ]
    },
    {
     "data": {
      "image/png": "[encoded data removed]",
      "text/plain": [
       "<Figure size 1152x1152 with 16 Axes>"
      ]
     },
     "metadata": {
      "needs_background": "light"
     },
     "output_type": "display_data"
    }
   ],
   "source": [
    "# Test 1\n",
    "\n",
    "center_temp = 10\n",
    "center_std = 2\n",
    "total_time = 2000\n",
    "sensor_1 = np.concatenate([np.random.normal(center_temp, center_std, total_time//2), np.random.normal(center_temp, center_std, total_time//2)])\n",
    "sensor_2 = np.concatenate([np.random.normal(center_temp, center_std, total_time//2), np.random.normal(center_temp, center_std, total_time//2)])\n",
    "sensor_3 = np.concatenate([np.random.normal(center_temp, center_std, total_time//2), np.random.normal(center_temp, center_std, total_time//2)])\n",
    "sensor_4 = np.concatenate([np.random.normal(center_temp, center_std, total_time//2), np.random.normal(13, center_std, total_time//2)])\n",
    "dist_series = compute_distances([sensor_1, sensor_2, sensor_3, sensor_4], pca)"
   ]
  },
  {
   "cell_type": "code",
   "execution_count": null,
   "id": "f7962919",
   "metadata": {
    "scrolled": false
   },
   "outputs": [
    {
     "name": "stderr",
     "output_type": "stream",
     "text": [
      " 37%|████████████████████████████████████▉                                                              | 336/900 [00:14<00:24, 23.13it/s]"
     ]
    }
   ],
   "source": [
    "# Test 2\n",
    "\n",
    "center_temp = 10\n",
    "center_std = 2\n",
    "total_time = 1000\n",
    "sensor_1 = np.random.normal(center_temp, center_std, total_time)\n",
    "sensor_2 = np.random.normal(center_temp, center_std, total_time)\n",
    "sensor_3 = np.random.normal(center_temp, center_std, total_time)\n",
    "sensor_4 = np.random.normal(center_temp, 10, total_time)\n",
    "dist_series = compute_distances([sensor_1, sensor_2, sensor_3, sensor_4], pca)"
   ]
  },
  {
   "cell_type": "code",
   "execution_count": null,
   "id": "17d5aa30",
   "metadata": {},
   "outputs": [],
   "source": [
    "# Test 3\n",
    "\n",
    "center_temp = 60\n",
    "center_std = 2\n",
    "total_time = 2000\n",
    "sensor_1 = np.concatenate([np.random.normal(center_temp, center_std, total_time//2), np.random.normal(center_temp, center_std, total_time//2)])\n",
    "sensor_2 = np.concatenate([np.random.normal(center_temp, center_std, total_time//2), np.random.normal(center_temp, center_std, total_time//2)])\n",
    "sensor_3 = np.concatenate([np.random.normal(center_temp, center_std, total_time//2), np.random.normal(center_temp, center_std, total_time//2)])\n",
    "sensor_4 = np.concatenate([np.random.normal(center_temp, center_std, total_time//2), np.random.normal(55, center_std, total_time//2)])\n",
    "dist_series = compute_distances([sensor_1, sensor_2, sensor_3, sensor_4], pca)"
   ]
  },
  {
   "cell_type": "code",
   "execution_count": null,
   "id": "56535a16",
   "metadata": {
    "scrolled": false
   },
   "outputs": [],
   "source": [
    "# Test 4\n",
    "\n",
    "center_temp = 60\n",
    "center_std = 2\n",
    "total_time = 2000\n",
    "sensor_1 = np.concatenate([np.random.normal(center_temp, center_std, total_time//2), np.random.normal(center_temp, center_std, total_time//2)])\n",
    "sensor_2 = np.concatenate([np.random.normal(center_temp, center_std, total_time//2), np.random.normal(center_temp, center_std, total_time//2)])\n",
    "sensor_3 = np.concatenate([np.random.normal(center_temp, center_std, total_time//2), np.random.normal(center_temp, center_std, total_time//2)])\n",
    "sensor_4 = np.concatenate([np.random.normal(center_temp, center_std, total_time//2), np.random.normal(20, center_std, total_time//2)])\n",
    "dist_series = compute_distances([sensor_1, sensor_2, sensor_3, sensor_4], pca)\n",
    "print(np.mean(dist_series[:999]), np.std(dist_series[:999]))"
   ]
  },
  {
   "cell_type": "code",
   "execution_count": null,
   "id": "b6dac9ba",
   "metadata": {},
   "outputs": [],
   "source": [
    "# Erasure Noise\n",
    "\n",
    "center_temp = 60\n",
    "center_std = 2\n",
    "total_time = 2000\n",
    "sensor_1 = np.concatenate([np.random.normal(center_temp, center_std, total_time//2), np.random.normal(center_temp, center_std, total_time//2)])\n",
    "sensor_2 = np.concatenate([np.random.normal(center_temp, center_std, total_time//2), np.random.normal(center_temp, center_std, total_time//2)])\n",
    "sensor_3 = np.concatenate([np.random.normal(center_temp, center_std, total_time//2), np.random.normal(center_temp, center_std, total_time//2)])\n",
    "sensor_4 = np.concatenate([np.random.normal(center_temp, center_std, total_time//2), np.random.normal(20, center_std, total_time//2)])\n",
    "mask_1 = np.random.choice([0, 1], 2000, p=[0.1, 0.9])\n",
    "mask_2 = np.random.choice([0, 1], 2000, p=[0.1, 0.9])\n",
    "mask_3 = np.random.choice([0, 1], 2000, p=[0.1, 0.9])\n",
    "mask_4 = np.random.choice([0, 1], 2000, p=[0.1, 0.9])\n",
    "sensor_1 = np.multiply(sensor_1, mask_1)\n",
    "sensor_2 = np.multiply(sensor_2, mask_2)\n",
    "sensor_3 = np.multiply(sensor_3, mask_3)\n",
    "sensor_4 = np.multiply(sensor_4, mask_4)\n",
    "\n",
    "dist_series = compute_distances([sensor_1, sensor_2, sensor_3, sensor_4], pca)\n",
    "print(np.mean(dist_series[:999]), np.std(dist_series[:999]))"
   ]
  },
  {
   "cell_type": "markdown",
   "id": "146953a5",
   "metadata": {},
   "source": [
    "# Auto Encoder"
   ]
  },
  {
   "cell_type": "code",
   "execution_count": null,
   "id": "89eb0a20",
   "metadata": {},
   "outputs": [],
   "source": [
    "# Test 1\n",
    "\n",
    "center_temp = 10\n",
    "center_std = 2\n",
    "total_time = 1000\n",
    "sensor_1 = np.random.normal(center_temp, center_std, total_time)\n",
    "sensor_2 = np.random.normal(center_temp, center_std, total_time)\n",
    "sensor_3 = np.random.normal(center_temp, center_std, total_time)\n",
    "sensor_4 = np.random.normal(20, center_std, total_time)\n",
    "dist_series = compute_distances([sensor_1, sensor_2, sensor_3, sensor_4], encoder)"
   ]
  },
  {
   "cell_type": "code",
   "execution_count": null,
   "id": "b230b4a3",
   "metadata": {},
   "outputs": [],
   "source": [
    "# Test 2\n",
    "\n",
    "center_temp = 10\n",
    "center_std = 2\n",
    "total_time = 1000\n",
    "sensor_1 = np.random.normal(center_temp, center_std, total_time)\n",
    "sensor_2 = np.random.normal(center_temp, center_std, total_time)\n",
    "sensor_3 = np.random.normal(center_temp, center_std, total_time)\n",
    "sensor_4 = np.random.normal(center_temp, 10, total_time)\n",
    "dist_series = compute_distances([sensor_1, sensor_2, sensor_3, sensor_4], encoder)"
   ]
  },
  {
   "cell_type": "code",
   "execution_count": null,
   "id": "ce4ccd5b",
   "metadata": {},
   "outputs": [],
   "source": [
    "# Test 3\n",
    "\n",
    "center_temp = 10\n",
    "center_std = 2\n",
    "total_time = 2000\n",
    "sensor_1 = np.concatenate([np.random.normal(center_temp, center_std, total_time//2), np.random.normal(center_temp, center_std, total_time//2)])\n",
    "sensor_2 = np.concatenate([np.random.normal(center_temp, center_std, total_time//2), np.random.normal(center_temp, center_std, total_time//2)])\n",
    "sensor_3 = np.concatenate([np.random.normal(center_temp, center_std, total_time//2), np.random.normal(center_temp, center_std, total_time//2)])\n",
    "sensor_4 = np.concatenate([np.random.normal(center_temp, center_std, total_time//2), np.random.normal(13, center_std, total_time//2)])\n",
    "dist_series = compute_distances([sensor_1, sensor_2, sensor_3, sensor_4], encoder)"
   ]
  },
  {
   "cell_type": "code",
   "execution_count": null,
   "id": "2bad6784",
   "metadata": {},
   "outputs": [],
   "source": [
    "# Test 4\n",
    "\n",
    "center_temp = 60\n",
    "center_std = 2\n",
    "total_time = 2000\n",
    "sensor_1 = np.concatenate([np.random.normal(center_temp, center_std, total_time//2), np.random.normal(center_temp, center_std, total_time//2)])\n",
    "sensor_2 = np.concatenate([np.random.normal(center_temp, center_std, total_time//2), np.random.normal(center_temp, center_std, total_time//2)])\n",
    "sensor_3 = np.concatenate([np.random.normal(center_temp, center_std, total_time//2), np.random.normal(center_temp, center_std, total_time//2)])\n",
    "sensor_4 = np.concatenate([np.random.normal(center_temp, center_std, total_time//2), np.random.normal(20, center_std, total_time//2)])\n",
    "dist_series = compute_distances([sensor_1, sensor_2, sensor_3, sensor_4], encoder)\n",
    "print(np.mean(dist_series[:999]), np.std(dist_series[:999]))"
   ]
  },
  {
   "cell_type": "code",
   "execution_count": null,
   "id": "4d794ded",
   "metadata": {},
   "outputs": [],
   "source": [
    "# Erasure Noise\n",
    "\n",
    "center_temp = 60\n",
    "center_std = 2\n",
    "total_time = 2000\n",
    "sensor_1 = np.concatenate([np.random.normal(center_temp, center_std, total_time//2), np.random.normal(center_temp, center_std, total_time//2)])\n",
    "sensor_2 = np.concatenate([np.random.normal(center_temp, center_std, total_time//2), np.random.normal(center_temp, center_std, total_time//2)])\n",
    "sensor_3 = np.concatenate([np.random.normal(center_temp, center_std, total_time//2), np.random.normal(center_temp, center_std, total_time//2)])\n",
    "sensor_4 = np.concatenate([np.random.normal(center_temp, center_std, total_time//2), np.random.normal(20, center_std, total_time//2)])\n",
    "mask_1 = np.random.choice([0, 1], 2000, p=[0.1, 0.9])\n",
    "mask_2 = np.random.choice([0, 1], 2000, p=[0.1, 0.9])\n",
    "mask_3 = np.random.choice([0, 1], 2000, p=[0.1, 0.9])\n",
    "mask_4 = np.random.choice([0, 1], 2000, p=[0.1, 0.9])\n",
    "sensor_1 = np.multiply(sensor_1, mask_1)\n",
    "sensor_2 = np.multiply(sensor_2, mask_2)\n",
    "sensor_3 = np.multiply(sensor_3, mask_3)\n",
    "sensor_4 = np.multiply(sensor_4, mask_4)\n",
    "\n",
    "dist_series = compute_distances([sensor_1, sensor_2, sensor_3, sensor_4], encoder)\n",
    "print(np.mean(dist_series[:999]), np.std(dist_series[:999]))"
   ]
  },
  {
   "cell_type": "code",
   "execution_count": 19,
   "id": "4798bfd3",
   "metadata": {},
   "outputs": [],
   "source": [
    "def two_sample_t_test(dist_series, alpha=1e-20, prior_series_length=100, new_series_length=10):\n",
    "    for i in range(dist_series.shape[0] - prior_series_length - new_series_length):\n",
    "        for j in range(dist_series.shape[1]):\n",
    "            num_anomalous_dists = 0\n",
    "            for k in range(dist_series.shape[2]):\n",
    "                statistic, pval = stats.ttest_ind(\n",
    "                    dist_series[i:i+prior_series_length, j, k], \n",
    "                    dist_series[i+prior_series_length:i+prior_series_length+new_series_length, j, k],\n",
    "                    equal_var = False,\n",
    "                )\n",
    "                if j!=k and pval < alpha:\n",
    "                    num_anomalous_dists += 1\n",
    "            if num_anomalous_dists > 1:\n",
    "                return j, i"
   ]
  },
  {
   "cell_type": "code",
   "execution_count": 20,
   "id": "95a8b9e1",
   "metadata": {},
   "outputs": [
    {
     "name": "stderr",
     "output_type": "stream",
     "text": [
      "100%|███████████████████████████████████████████████████████████████████████████████████████████████████| 900/900 [00:37<00:00, 24.19it/s]\n"
     ]
    }
   ],
   "source": [
    "center_temp = 60\n",
    "center_std = 2\n",
    "total_time = 1000\n",
    "sensor_1 = np.concatenate([np.random.normal(center_temp, center_std, total_time//2), np.random.normal(center_temp+20, center_std, total_time//2)])\n",
    "sensor_2 = np.concatenate([np.random.normal(center_temp, center_std, total_time//2), np.random.normal(center_temp+20, center_std, total_time//2)])\n",
    "sensor_3 = np.concatenate([np.random.normal(center_temp, center_std, total_time//2), np.random.normal(center_temp+20, center_std, total_time//2)])\n",
    "sensor_4 = np.concatenate([np.random.normal(center_temp, center_std, total_time//2), np.random.normal(center_temp+20, 10, total_time//2)])\n",
    "dist_series = compute_distances([sensor_1, sensor_2, sensor_3, sensor_4], encoder, plot=False)"
   ]
  },
  {
   "cell_type": "code",
   "execution_count": 21,
   "id": "2f95a73e",
   "metadata": {},
   "outputs": [
    {
     "name": "stderr",
     "output_type": "stream",
     "text": [
      "d:\\projects\\sensor\\env\\lib\\site-packages\\scipy\\stats\\_distn_infrastructure.py:1932: RuntimeWarning: invalid value encountered in less_equal\n",
      "  cond2 = cond0 & (x <= _a)\n"
     ]
    },
    {
     "data": {
      "text/plain": [
       "(2, 455)"
      ]
     },
     "execution_count": 21,
     "metadata": {},
     "output_type": "execute_result"
    }
   ],
   "source": [
    "two_sample_t_test(dist_series)"
   ]
  },
  {
   "cell_type": "code",
   "execution_count": 22,
   "id": "b86194ce",
   "metadata": {},
   "outputs": [
    {
     "name": "stderr",
     "output_type": "stream",
     "text": [
      "100%|███████████████████████████████████████████████████████████████████████████████████████████████████| 900/900 [00:36<00:00, 24.42it/s]\n"
     ]
    }
   ],
   "source": [
    "center_temp = 60\n",
    "center_std = 2\n",
    "total_time = 1000\n",
    "sensor_1 = np.concatenate([np.random.normal(10, center_std, total_time//2), np.random.normal(20, center_std, total_time//2)])\n",
    "sensor_2 = np.concatenate([np.random.normal(20, center_std, total_time//2), np.random.normal(30, center_std, total_time//2)])\n",
    "sensor_3 = np.concatenate([np.random.normal(30, center_std, total_time//2), np.random.normal(40, center_std, total_time//2)])\n",
    "sensor_4 = np.concatenate([np.random.normal(40, center_std, total_time//2), np.random.normal(40, center_std, total_time//2)])\n",
    "dist_series = compute_distances([sensor_1, sensor_2, sensor_3, sensor_4], encoder, plot=False)"
   ]
  },
  {
   "cell_type": "code",
   "execution_count": 23,
   "id": "643a8531",
   "metadata": {
    "scrolled": true
   },
   "outputs": [
    {
     "data": {
      "text/plain": [
       "(3, 329)"
      ]
     },
     "execution_count": 23,
     "metadata": {},
     "output_type": "execute_result"
    }
   ],
   "source": [
    "two_sample_t_test(dist_series)"
   ]
  },
  {
   "cell_type": "code",
   "execution_count": null,
   "id": "ee4b767e",
   "metadata": {},
   "outputs": [],
   "source": []
  }
 ],
 "metadata": {
  "kernelspec": {
   "display_name": "Python 3",
   "language": "python",
   "name": "python3"
  },
  "language_info": {
   "codemirror_mode": {
    "name": "ipython",
    "version": 3
   },
   "file_extension": ".py",
   "mimetype": "text/x-python",
   "name": "python",
   "nbconvert_exporter": "python",
   "pygments_lexer": "ipython3",
   "version": "3.6.7"
  }
 },
 "nbformat": 4,
 "nbformat_minor": 5
}
